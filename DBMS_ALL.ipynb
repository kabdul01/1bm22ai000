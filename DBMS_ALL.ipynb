{
  "nbformat": 4,
  "nbformat_minor": 0,
  "metadata": {
    "colab": {
      "provenance": [],
      "collapsed_sections": [
        "diMJSW0C5QxU",
        "B83_U_9H9fK9",
        "TzwQcwu6l7YP"
      ]
    },
    "kernelspec": {
      "name": "python3",
      "display_name": "Python 3"
    },
    "language_info": {
      "name": "python"
    }
  },
  "cells": [
    {
      "cell_type": "code",
      "execution_count": null,
      "metadata": {
        "id": "ggbsTFzS4342"
      },
      "outputs": [],
      "source": [
        "import sqlite3"
      ]
    },
    {
      "cell_type": "markdown",
      "source": [
        "## Insurance Database"
      ],
      "metadata": {
        "id": "diMJSW0C5QxU"
      }
    },
    {
      "cell_type": "code",
      "source": [
        "db1 = sqlite3.connect(\"INSURANCE.db\")\n",
        "db1 = db1.cursor()"
      ],
      "metadata": {
        "id": "HTZ-tyEB5FRE"
      },
      "execution_count": null,
      "outputs": []
    },
    {
      "cell_type": "code",
      "source": [
        "db1.execute(\"create table person(driver_id varchar(20) primary key, name varchar(20), address varchar(20))\")\n",
        "db1.execute(\"create table car(reg_num varchar(20) primary key, model varchar(20), year int)\")\n",
        "db1.execute(\"create table accident(report_num int primary key, accident_date date, location varchar(20))\")\n",
        "db1.execute(\"create table owns(driver_id varchar(20) primary key, reg_num varchar(20), foreign key(driver_id) references person(driver_id),foreign key(reg_num) references car(reg_num))\")\n",
        "db1.execute(\"create table participated(driver_id varchar(20) primary key,reg_num varchar(20), report_num int, damage_amount int,foreign key(driver_id) references person(driver_id),foreign key(reg_num) references car(reg_num),foreign key(report_num) references accident(report_num))\")\n"
      ],
      "metadata": {
        "colab": {
          "base_uri": "https://localhost:8080/"
        },
        "id": "U1IGDnZa5JZd",
        "outputId": "7fa91a0c-7211-4139-8175-d2d092bc27cc"
      },
      "execution_count": null,
      "outputs": [
        {
          "output_type": "execute_result",
          "data": {
            "text/plain": [
              "<sqlite3.Cursor at 0x7ca4f3440140>"
            ]
          },
          "metadata": {},
          "execution_count": 32
        }
      ]
    },
    {
      "cell_type": "code",
      "source": [
        "person_data = [\n",
        "    ('A01','Richard','Srinivas Nagar'),\n",
        "('A02','Pradeep','Rajaji Nagar'),\n",
        "('A03','Smith','Ashok Nagar'),\n",
        "('A04','Venu','NR Colony'),\n",
        "('A05','John','Hanumanth Nagar')\n",
        "]\n",
        "\n",
        "db1.executemany(\"INSERT INTO person VALUES(?,?,?)\",person_data)"
      ],
      "metadata": {
        "colab": {
          "base_uri": "https://localhost:8080/"
        },
        "id": "6xW_MFkZ5-2k",
        "outputId": "83932699-1cbb-4fa8-c8f6-1dde79036820"
      },
      "execution_count": null,
      "outputs": [
        {
          "output_type": "execute_result",
          "data": {
            "text/plain": [
              "<sqlite3.Cursor at 0x7ca4f3440140>"
            ]
          },
          "metadata": {},
          "execution_count": 28
        }
      ]
    },
    {
      "cell_type": "code",
      "source": [
        "car_data = [\n",
        "    ('KA052250','Indica',1990),\n",
        "('KA031181','Lancer',1957),\n",
        "('KA095477','Toyota',1998),\n",
        "('KA053408','Honda',2008),\n",
        "('KA041702','Adui',2005)\n",
        "]\n",
        "db1.executemany(\"INSERT INTO car values(?,?,?)\",car_data)"
      ],
      "metadata": {
        "colab": {
          "base_uri": "https://localhost:8080/"
        },
        "id": "CzqkJC146GDY",
        "outputId": "2b7a213e-270e-4906-8e1c-c857d2dbfed2"
      },
      "execution_count": null,
      "outputs": [
        {
          "output_type": "execute_result",
          "data": {
            "text/plain": [
              "<sqlite3.Cursor at 0x7ca4f3440140>"
            ]
          },
          "metadata": {},
          "execution_count": 33
        }
      ]
    },
    {
      "cell_type": "code",
      "source": [
        "accident_data = [\n",
        "    (11,'2003-01-01','Mysore Road'),\n",
        "(12,'2004-02-04','South End Circle'),\n",
        "(13,'2003-01-03','Bull Temple Road'),\n",
        "(14,'2008-02-08','Mysore Road'),\n",
        "(15,'2005-03-05','Kanakapura Road')]\n",
        "db1.executemany(\"INSERT INTO accident values(?,?,?)\",accident_data)"
      ],
      "metadata": {
        "colab": {
          "base_uri": "https://localhost:8080/"
        },
        "id": "InsjCYPY6J4N",
        "outputId": "7059c63e-2dfb-42bc-ce08-7e296d5e4d3b"
      },
      "execution_count": null,
      "outputs": [
        {
          "output_type": "execute_result",
          "data": {
            "text/plain": [
              "<sqlite3.Cursor at 0x7ca4f3440140>"
            ]
          },
          "metadata": {},
          "execution_count": 34
        }
      ]
    },
    {
      "cell_type": "code",
      "source": [
        "owns_data = [\n",
        "    ('A01','KA052250'),\n",
        "('A02','KA053408'),\n",
        "('A03','KA031181'),\n",
        "('A04','KA095477'),\n",
        "('A05','KA041702')\n",
        "]\n",
        "db1.executemany(\"INSERT INTO owns values(?,?)\",owns_data)"
      ],
      "metadata": {
        "colab": {
          "base_uri": "https://localhost:8080/"
        },
        "id": "YlNopYsI6LRP",
        "outputId": "7a3d8d92-e718-45b9-f193-accce559093a"
      },
      "execution_count": null,
      "outputs": [
        {
          "output_type": "execute_result",
          "data": {
            "text/plain": [
              "<sqlite3.Cursor at 0x7ca4f3440140>"
            ]
          },
          "metadata": {},
          "execution_count": 35
        }
      ]
    },
    {
      "cell_type": "code",
      "source": [
        "participated_data = [\n",
        "    ('A01','KA052250',11,10000),\n",
        "('A02','KA053408',12,50000),\n",
        "('A03','KA031181',13,25000),\n",
        "('A04','KA095477',14,3000),\n",
        "('A05','KA041702',15,5000)\n",
        "]\n",
        "db1.executemany(\"INSERT INTO participated values(?,?,?,?)\",participated_data)"
      ],
      "metadata": {
        "colab": {
          "base_uri": "https://localhost:8080/"
        },
        "id": "bn0MyOBL6Mv8",
        "outputId": "915d6465-ce6a-48d5-e409-c08ba799d0ef"
      },
      "execution_count": null,
      "outputs": [
        {
          "output_type": "execute_result",
          "data": {
            "text/plain": [
              "<sqlite3.Cursor at 0x7ca4f3440140>"
            ]
          },
          "metadata": {},
          "execution_count": 36
        }
      ]
    },
    {
      "cell_type": "code",
      "source": [
        "for row in db1.execute(\"update participated set damage_amount = 25000 where reg_num = 'KA053408' and report_num = 12 \"):\n",
        "  print(row)\n",
        "\n",
        "for row in db1.execute(\"select * from participated\"):\n",
        "  print(row)"
      ],
      "metadata": {
        "colab": {
          "base_uri": "https://localhost:8080/"
        },
        "id": "loH1rtCA6hTE",
        "outputId": "bddad613-a856-443e-ebe1-23d63da2f865"
      },
      "execution_count": null,
      "outputs": [
        {
          "output_type": "stream",
          "name": "stdout",
          "text": [
            "('A01', 'KA052250', 11, 10000)\n",
            "('A02', 'KA053408', 12, 25000)\n",
            "('A03', 'KA031181', 13, 25000)\n",
            "('A04', 'KA095477', 14, 3000)\n",
            "('A05', 'KA041702', 15, 5000)\n"
          ]
        }
      ]
    },
    {
      "cell_type": "code",
      "source": [
        "for row in db1.execute(\"select count(*) from accident where strftime('%Y',accident_date) = '2008' \"):\n",
        "  print(row)"
      ],
      "metadata": {
        "colab": {
          "base_uri": "https://localhost:8080/"
        },
        "id": "vPU_at-868Yh",
        "outputId": "dfb9b14a-8c34-4bce-e791-62ab5fb4083a"
      },
      "execution_count": null,
      "outputs": [
        {
          "output_type": "stream",
          "name": "stdout",
          "text": [
            "(1,)\n"
          ]
        }
      ]
    },
    {
      "cell_type": "code",
      "source": [
        "for row in db1.execute(\"select c.model as model, count(*) from car c join participated p ON p.reg_num = c.reg_num where c.model = 'Honda'\"):\n",
        "  print(row)\n",
        "\n",
        "\n",
        "\n",
        "\n"
      ],
      "metadata": {
        "colab": {
          "base_uri": "https://localhost:8080/"
        },
        "id": "kcXpJ8Fa7z3y",
        "outputId": "4196a52f-2660-4586-ce74-235f5fd8b324"
      },
      "execution_count": null,
      "outputs": [
        {
          "output_type": "stream",
          "name": "stdout",
          "text": [
            "('Honda', 1)\n"
          ]
        }
      ]
    },
    {
      "cell_type": "markdown",
      "source": [
        "## Banking Database"
      ],
      "metadata": {
        "id": "B83_U_9H9fK9"
      }
    },
    {
      "cell_type": "code",
      "source": [
        "db2 = sqlite3.connect(\"bank.db\")\n",
        "db2 = db2.cursor()"
      ],
      "metadata": {
        "id": "WRUYuG0H9KMC"
      },
      "execution_count": null,
      "outputs": []
    },
    {
      "cell_type": "code",
      "source": [
        "db2.execute(\"CREATE TABLE Branch (branch_name VARCHAR(30), branch_city VARCHAR(30), assets REAL)\")\n",
        "db2.execute(\"CREATE TABLE BankAccount (accno INT PRIMARY KEY, branch_name VARCHAR(30), balance REAL, FOREIGN KEY (branch_name) REFERENCES Branch(branch_name))\")\n",
        "db2.execute(\"CREATE TABLE BankCustomer (customer_name VARCHAR(30), customer_street VARCHAR(30), customer_city VARCHAR(30))\")\n",
        "db2.execute(\"CREATE TABLE Depositer (customer_name VARCHAR(30), accno INT, FOREIGN KEY (customer_name) REFERENCES BankCustomer(customer_name), FOREIGN KEY (accno) REFERENCES BankAccount(accno))\")\n",
        "db2.execute(\"CREATE TABLE Loan (loan_number INT PRIMARY KEY, branch_name VARCHAR(30), amount REAL, FOREIGN KEY (branch_name) REFERENCES Branch(branch_name))\")\n"
      ],
      "metadata": {
        "colab": {
          "base_uri": "https://localhost:8080/"
        },
        "id": "DxKDd4Dn-G1t",
        "outputId": "2b4baae6-9a50-49db-de05-53b342e36ff1"
      },
      "execution_count": null,
      "outputs": [
        {
          "output_type": "execute_result",
          "data": {
            "text/plain": [
              "<sqlite3.Cursor at 0x7ca4f348f540>"
            ]
          },
          "metadata": {},
          "execution_count": 42
        }
      ]
    },
    {
      "cell_type": "code",
      "source": [
        "branch_data = [\n",
        "    ('Branch1', 'City1', 1000000.00),\n",
        "    ('Branch2', 'City2', 2000000.00),\n",
        "    ('Branch3', 'City3', 3000000.00),\n",
        "    ('Branch4', 'City4', 4000000.00),\n",
        "    ('Branch5', 'City5', 5000000.00)\n",
        "]\n",
        "\n",
        "db2.executemany(\"Insert into branch values(?,?,?)\",branch_data)"
      ],
      "metadata": {
        "colab": {
          "base_uri": "https://localhost:8080/"
        },
        "id": "HXlfzCcA_A5W",
        "outputId": "96cf821d-ab58-4f06-c4e8-f752dd13cc8a"
      },
      "execution_count": null,
      "outputs": [
        {
          "output_type": "execute_result",
          "data": {
            "text/plain": [
              "<sqlite3.Cursor at 0x7ca4f348f540>"
            ]
          },
          "metadata": {},
          "execution_count": 48
        }
      ]
    },
    {
      "cell_type": "code",
      "source": [
        "bank_account_data = [\n",
        "    (1001, 'Branch1', 5000.00),\n",
        "    (1002, 'Branch2', 6000.00),\n",
        "    (1003, 'Branch3', 7000.00),\n",
        "    (1004, 'Branch4', 8000.00),\n",
        "    (1005, 'Branch5', 9000.00)\n",
        "]\n",
        "db2.executemany(\"Insert into bankaccount values(?,?,?)\",bank_account_data)"
      ],
      "metadata": {
        "colab": {
          "base_uri": "https://localhost:8080/"
        },
        "id": "mOR1WH8j_iNL",
        "outputId": "21e1b25a-7a9b-4645-98f9-15406a88a868"
      },
      "execution_count": null,
      "outputs": [
        {
          "output_type": "execute_result",
          "data": {
            "text/plain": [
              "<sqlite3.Cursor at 0x7ca4f348f540>"
            ]
          },
          "metadata": {},
          "execution_count": 49
        }
      ]
    },
    {
      "cell_type": "code",
      "source": [
        "bank_customer_data = [\n",
        "    ('Customer1', 'Street1', 'City1'),\n",
        "    ('Customer2', 'Street2', 'City2'),\n",
        "    ('Customer3', 'Street3', 'City3'),\n",
        "    ('Customer4', 'Street4', 'City4'),\n",
        "    ('Customer5', 'Street5', 'City5')\n",
        "]\n",
        "db2.executemany(\"Insert into bankcustomer values(?,?,?)\",bank_customer_data)"
      ],
      "metadata": {
        "colab": {
          "base_uri": "https://localhost:8080/"
        },
        "id": "6DKnqW_4_ld6",
        "outputId": "71aa159e-ee66-4ea3-c5e0-8a6941096049"
      },
      "execution_count": null,
      "outputs": [
        {
          "output_type": "execute_result",
          "data": {
            "text/plain": [
              "<sqlite3.Cursor at 0x7ca4f348f540>"
            ]
          },
          "metadata": {},
          "execution_count": 50
        }
      ]
    },
    {
      "cell_type": "code",
      "source": [
        "depositer_data = [\n",
        "    ('Customer1', 1001),\n",
        "    ('Customer1', 1002),\n",
        "    ('Customer2', 1003),\n",
        "    ('Customer3', 1004),\n",
        "    ('Customer4', 1005)\n",
        "]\n",
        "\n",
        "db2.executemany(\"Insert into Depositer values(?,?)\",depositer_data)"
      ],
      "metadata": {
        "colab": {
          "base_uri": "https://localhost:8080/"
        },
        "id": "SR__O9YO_oxn",
        "outputId": "0909fb5d-7fed-42fd-8020-cd6299b28882"
      },
      "execution_count": null,
      "outputs": [
        {
          "output_type": "execute_result",
          "data": {
            "text/plain": [
              "<sqlite3.Cursor at 0x7ca4f348f540>"
            ]
          },
          "metadata": {},
          "execution_count": 52
        }
      ]
    },
    {
      "cell_type": "code",
      "source": [
        "loan_data = [\n",
        "    (2001, 'Branch1', 10000.00),\n",
        "    (2002, 'Branch2', 20000.00),\n",
        "    (2003, 'Branch3', 30000.00),\n",
        "    (2004, 'Branch4', 40000.00),\n",
        "    (2005, 'Branch5', 50000.00)\n",
        "]\n",
        "\n",
        "db2.executemany(\"Insert into Loan values(?,?,?)\",loan_data)"
      ],
      "metadata": {
        "colab": {
          "base_uri": "https://localhost:8080/"
        },
        "id": "uX-UZxvh_p4M",
        "outputId": "07c037ac-da14-4b6c-848d-b71c7e260fa5"
      },
      "execution_count": null,
      "outputs": [
        {
          "output_type": "execute_result",
          "data": {
            "text/plain": [
              "<sqlite3.Cursor at 0x7ca4f348f540>"
            ]
          },
          "metadata": {},
          "execution_count": 53
        }
      ]
    },
    {
      "cell_type": "code",
      "source": [
        "for row in db2.execute(\"select distinct bc.customer_name as customer_name from bankcustomer bc join depositer d on bc.customer_name = d.customer_name join bankaccount ba on ba.accno = d.accno group by bc.customer_name having count(Distinct ba.accno)>1\"):\n",
        "  print(row)"
      ],
      "metadata": {
        "colab": {
          "base_uri": "https://localhost:8080/"
        },
        "id": "CEw1GhViASzn",
        "outputId": "2e59cf34-bdce-4927-bede-cb57f61d12b8"
      },
      "execution_count": null,
      "outputs": [
        {
          "output_type": "stream",
          "name": "stdout",
          "text": [
            "('Customer1',)\n"
          ]
        }
      ]
    },
    {
      "cell_type": "code",
      "source": [
        "for row in db2.execute(\"select customer_name from bankcustomer where customer_city = 'City3'\"):\n",
        "  print(row)"
      ],
      "metadata": {
        "colab": {
          "base_uri": "https://localhost:8080/"
        },
        "id": "66ezWGxLAXJc",
        "outputId": "753a77c7-0f0a-4792-d496-b89faece0b78"
      },
      "execution_count": null,
      "outputs": [
        {
          "output_type": "stream",
          "name": "stdout",
          "text": [
            "('Customer3',)\n"
          ]
        }
      ]
    },
    {
      "cell_type": "code",
      "source": [
        "db2.execute(\"delete from loan where branch_name in(select branch_name from branch where branch_city = 'City5')\")\n",
        "db2.execute(\"delete from bankcustomer where customer_city = 'City5' \")\n",
        "db2.execute(\"delete from bankaccount where branch_name in (select branch_name from branch where branch_city = 'City5')\")\n",
        "db2.execute(\"delete from branch where branch_city = 'City5'\")"
      ],
      "metadata": {
        "colab": {
          "base_uri": "https://localhost:8080/"
        },
        "id": "ury5FKJiCpLY",
        "outputId": "4cd5a038-cde4-4645-b80f-2f27b3d1057a"
      },
      "execution_count": null,
      "outputs": [
        {
          "output_type": "execute_result",
          "data": {
            "text/plain": [
              "<sqlite3.Cursor at 0x7ca4f348f540>"
            ]
          },
          "metadata": {},
          "execution_count": 83
        }
      ]
    },
    {
      "cell_type": "markdown",
      "source": [
        "##Supplier Database using Workbench"
      ],
      "metadata": {
        "id": "ukn1x9EfGHZv"
      }
    },
    {
      "cell_type": "code",
      "source": [
        "db3 = sqlite3.connect('supplier')\n",
        "db3 = db3.cursor()"
      ],
      "metadata": {
        "id": "9Uz_Zoycuc-w"
      },
      "execution_count": null,
      "outputs": []
    },
    {
      "cell_type": "code",
      "source": [
        "db3.execute(\"create table supplier(sid int primary key, sname varchar(30), address varchar(30))\")\n",
        "db3.execute(\"create table parts(pid int primary key, pname varchar(30), color varchar(30))\")\n",
        "db3.execute(\"create table catalog(sid int, pid int , cost real, foreign key(sid) references supplier(sid),foreign key(pid) references parts(pid), primary key(pid,sid))\")"
      ],
      "metadata": {
        "colab": {
          "base_uri": "https://localhost:8080/"
        },
        "id": "l19pKy-au0WI",
        "outputId": "94d7285e-2524-4305-c9ca-f27a6f3fec5f"
      },
      "execution_count": null,
      "outputs": [
        {
          "output_type": "execute_result",
          "data": {
            "text/plain": [
              "<sqlite3.Cursor at 0x78bc594c9b40>"
            ]
          },
          "metadata": {},
          "execution_count": 4
        }
      ]
    },
    {
      "cell_type": "code",
      "source": [
        "sup_data = [\n",
        "    (1, 'Acme Widget Suppliers', '123 Main St'),\n",
        "(2, 'ABC Industries', '456 Elm St'),\n",
        "(3, 'XYZ Manufacturing', '789 Oak St'),\n",
        "(4, 'Smith Parts Co.', '101 Pine St'),\n",
        "(5, 'Johnson Enterprises', '202 Cedar St')\n",
        "]\n",
        "\n",
        "db3.executemany(\"insert into supplier values(?,?,?)\",sup_data)"
      ],
      "metadata": {
        "colab": {
          "base_uri": "https://localhost:8080/"
        },
        "id": "4YB6rRftvP9D",
        "outputId": "64f3e668-2970-4be3-b2a5-a59cc7f5cefa"
      },
      "execution_count": null,
      "outputs": [
        {
          "output_type": "execute_result",
          "data": {
            "text/plain": [
              "<sqlite3.Cursor at 0x78bc594c9b40>"
            ]
          },
          "metadata": {},
          "execution_count": 6
        }
      ]
    },
    {
      "cell_type": "code",
      "source": [
        "parts_data = [\n",
        "    (1, 'A', 'Red'),\n",
        "(2, 'B', 'Blue'),\n",
        "(3, 'C', 'Green'),\n",
        "(4, 'D', 'Yellow'),\n",
        "(5, 'E', 'Orange'),\n",
        "(6,'F','Red')\n",
        "]\n",
        "db3.executemany(\"insert into parts values(?,?,?)\",parts_data)"
      ],
      "metadata": {
        "colab": {
          "base_uri": "https://localhost:8080/"
        },
        "id": "mseYxQUtvSei",
        "outputId": "6d7500a2-3a37-41b6-9071-adba587b53f2"
      },
      "execution_count": null,
      "outputs": [
        {
          "output_type": "execute_result",
          "data": {
            "text/plain": [
              "<sqlite3.Cursor at 0x78bc594c9b40>"
            ]
          },
          "metadata": {},
          "execution_count": 7
        }
      ]
    },
    {
      "cell_type": "code",
      "source": [
        "cat_data=[\n",
        "(1,1,10),\n",
        "(1,3,30),\n",
        "(1,4,40),\n",
        "(1,5,50),\n",
        "(2,1,10),\n",
        "(4,3,30),\n",
        "(5,5,50),\n",
        "(1,1,20),\n",
        "(2,6,60)\n",
        "]\n",
        "db3.executemany(\"insert into catalog values(?,?,?)\",cat_data)"
      ],
      "metadata": {
        "colab": {
          "base_uri": "https://localhost:8080/",
          "height": 183
        },
        "id": "dF3rXESevUew",
        "outputId": "fec592c0-bd40-4fb9-8fe3-107de9cb98b7"
      },
      "execution_count": null,
      "outputs": [
        {
          "output_type": "error",
          "ename": "IntegrityError",
          "evalue": "UNIQUE constraint failed: catalog.pid, catalog.sid",
          "traceback": [
            "\u001b[0;31m---------------------------------------------------------------------------\u001b[0m",
            "\u001b[0;31mIntegrityError\u001b[0m                            Traceback (most recent call last)",
            "\u001b[0;32m<ipython-input-11-a2b94db11634>\u001b[0m in \u001b[0;36m<cell line: 12>\u001b[0;34m()\u001b[0m\n\u001b[1;32m     10\u001b[0m \u001b[0;34m(\u001b[0m\u001b[0;36m2\u001b[0m\u001b[0;34m,\u001b[0m\u001b[0;36m6\u001b[0m\u001b[0;34m,\u001b[0m\u001b[0;36m60\u001b[0m\u001b[0;34m)\u001b[0m\u001b[0;34m\u001b[0m\u001b[0;34m\u001b[0m\u001b[0m\n\u001b[1;32m     11\u001b[0m ]\n\u001b[0;32m---> 12\u001b[0;31m \u001b[0mdb3\u001b[0m\u001b[0;34m.\u001b[0m\u001b[0mexecutemany\u001b[0m\u001b[0;34m(\u001b[0m\u001b[0;34m\"insert into catalog values(?,?,?)\"\u001b[0m\u001b[0;34m,\u001b[0m\u001b[0mcat_data\u001b[0m\u001b[0;34m)\u001b[0m\u001b[0;34m\u001b[0m\u001b[0;34m\u001b[0m\u001b[0m\n\u001b[0m",
            "\u001b[0;31mIntegrityError\u001b[0m: UNIQUE constraint failed: catalog.pid, catalog.sid"
          ]
        }
      ]
    },
    {
      "cell_type": "code",
      "source": [
        "db3.execute(\"delete from ca\")"
      ],
      "metadata": {
        "id": "eGVHMJkVwPUP"
      },
      "execution_count": null,
      "outputs": []
    },
    {
      "cell_type": "code",
      "source": [
        "for row in db3.execute(\"select * from catalog\"):\n",
        "  print(row)"
      ],
      "metadata": {
        "colab": {
          "base_uri": "https://localhost:8080/"
        },
        "id": "VmNH-zQOv96J",
        "outputId": "e06c76cc-d371-45de-bc3b-b0559ea69ca4"
      },
      "execution_count": null,
      "outputs": [
        {
          "output_type": "stream",
          "name": "stdout",
          "text": [
            "(1, 1, 10.0)\n",
            "(1, 3, 30.0)\n",
            "(1, 4, 40.0)\n",
            "(1, 5, 50.0)\n",
            "(2, 1, 10.0)\n",
            "(4, 3, 30.0)\n",
            "(5, 5, 50.0)\n"
          ]
        }
      ]
    },
    {
      "cell_type": "code",
      "source": [
        "insert into supplier(sid,sname,address)\n",
        "values\n",
        "(1, 'Acme Widget Suppliers', '123 Main St'),\n",
        "(2, 'ABC Industries', '456 Elm St'),\n",
        "(3, 'XYZ Manufacturing', '789 Oak St'),\n",
        "(4, 'Smith Parts Co.', '101 Pine St'),\n",
        "(5, 'Johnson Enterprises', '202 Cedar St')\n",
        "\n",
        "\n",
        "insert into parts(pid,pname,color)\n",
        "values\n",
        "(1, 'A', 'Red'),\n",
        "(2, 'B', 'Blue'),\n",
        "(3, 'C', 'Green'),\n",
        "(4, 'D', 'Yellow'),\n",
        "(5, 'E', 'Orange'),\n",
        "(6,'F','Red')\n",
        "\n",
        "insert into catalog(sid,pid,cost)\n",
        "values\n",
        "(1,1,10),\n",
        "(1,3,30),\n",
        "(1,4,40),\n",
        "(1,5,50),\n",
        "(2,1,10),\n",
        "(4,3,30),\n",
        "(5,5,50),\n",
        "(1,1,20),\n",
        "(2,6,60)\n",
        "\n",
        "\n",
        "# Find the pnames of parts for which there is some supplier.\n",
        "select distinct p.pname as part_name\n",
        "from parts p\n",
        "join catalog c on c.pid = p.pid\n",
        "\n",
        "# Find the snames of suppliers who supply every part.\n",
        "select sname as supllier_name\n",
        "from supplier\n",
        "where sid in(\n",
        "\tselect sid\n",
        "    from catalog\n",
        "    where pid in(\n",
        "\t\tselect pid\n",
        "        from parts\n",
        "        where color = 'Red'\n",
        "    )\n",
        "    group by sid\n",
        "    having count(distinct pid) = (select count(*) from parts pid where color = 'Red')\n",
        "\n",
        ")\n",
        "\n",
        "# Find the pnames of parts supplied by Acme Widget Suppliers and by no one else.\n",
        "\n",
        "select pname\n",
        "from parts\n",
        "where pid in(\n",
        "\tselect pid\n",
        "    from catalog\n",
        "    where sid = (\n",
        "\t\tselect sid\n",
        "        from supplier\n",
        "        where sname = 'Acme Widget Suppliers'\n",
        "    )\n",
        ")\n",
        "and pid not in(\n",
        "select pid from catalog\n",
        "where sid <>(\n",
        "\tselect sid\n",
        "    from supplier\n",
        "    where sname = 'Acme Widget Suppliers'\n",
        ")\n",
        ")\n"
      ],
      "metadata": {
        "id": "O7ZxFJR_GJOD"
      },
      "execution_count": null,
      "outputs": []
    },
    {
      "cell_type": "markdown",
      "source": [
        "## student db, using workbench"
      ],
      "metadata": {
        "id": "TzwQcwu6l7YP"
      }
    },
    {
      "cell_type": "code",
      "source": [
        "create database student\n",
        "use student\n",
        "\n",
        "CREATE TABLE STUDENT (snum INT PRIMARY KEY, sname VARCHAR(30), major VARCHAR(30), lvl VARCHAR(10), age INT);\n",
        "CREATE TABLE FACULTY (fid INT PRIMARY KEY, fname VARCHAR(30), deptid INT);\n",
        "CREATE TABLE CLASS (cname VARCHAR(50), meets_at TIME, room VARCHAR(20), fid INT, PRIMARY KEY (cname, meets_at), FOREIGN KEY (fid) REFERENCES FACULTY(fid));\n",
        "CREATE TABLE ENROLLED (snum INT, cname VARCHAR(50), PRIMARY KEY (snum, cname), FOREIGN KEY (snum) REFERENCES STUDENT(snum), FOREIGN KEY (cname) REFERENCES CLASS(cname));\n",
        "\n",
        "\n",
        "insert into student(snum,sname,major,lvl,age)\n",
        "values\n",
        "(1, 'John Doe', 'Computer Science', 'jr', 20),\n",
        "(2, 'Jane Smith', 'Engineering', 'sr', 22),\n",
        "(3, 'Alice Johnson', 'Biology', 'jr', 19),\n",
        "(4, 'Bob Brown', 'Mathematics', 'sr', 21)\n",
        "\n",
        "insert into faculty(fid,fname,deptid)\n",
        "values\n",
        "(101, 'Professor Smith', 1),\n",
        "(102, 'Professor Johnson', 2),\n",
        "(103, 'Professor Brown', 3),\n",
        "(104, 'Professor White', 4)\n",
        "\n",
        "insert into class(cname,meets_at,room,fid)\n",
        "values\n",
        "('Introduction to Programming', '08:00:00', 'A101', 101),\n",
        "('Data Structures', '10:00:00', 'B203', 102),\n",
        "('Chemistry 101', '09:30:00', 'C105', 103),\n",
        "('Calculus II', '11:00:00', 'D301', 104)\n",
        "\n",
        "\n",
        "insert into enrolled(snum,cname)\n",
        "values\n",
        "(1, 'Introduction to Programming'),\n",
        "(2, 'Data Structures'),\n",
        "(3, 'Chemistry 101'),\n",
        "(4, 'Calculus II')\n",
        "\n",
        "select s.sname,s.lvl, f.fname\n",
        "from student s\n",
        "join enrolled e on s.snum = e.snum\n",
        "join class c on c.cname = e.cname\n",
        "join faculty f on f.fid = c.fid\n",
        "where s.lvl = 'jr'\n",
        "and f.fname = 'Professor Smith'\n",
        "\n",
        "select cname\n",
        "from class\n",
        "where room = 'B203'\n",
        "or(select count(*)\n",
        "from enrolled\n",
        "where enrolled.cname = class.cname)>4\n",
        "\n",
        "select sname\n",
        "from student\n",
        "where snum in(\n",
        "\tselect snum\n",
        "    from enrolled\n",
        "    join class on enrolled.cname = class.cname\n",
        "    group by snum,meets_at\n",
        "    having count(*) >1\n",
        ")\n",
        "\n",
        "SELECT fname\n",
        "FROM FACULTY\n",
        "WHERE fid IN (\n",
        "    SELECT fid\n",
        "    FROM CLASS\n",
        "    GROUP BY fid\n",
        "    HAVING COUNT(DISTINCT room) = (\n",
        "        SELECT COUNT(DISTINCT room)\n",
        "        FROM CLASS\n",
        "    )\n",
        ")\n",
        "\n",
        "SELECT fname\n",
        "FROM FACULTY\n",
        "WHERE fid IN (\n",
        "    SELECT fid\n",
        "    FROM CLASS\n",
        "    JOIN ENROLLED ON CLASS.cname = ENROLLED.cname\n",
        "    GROUP BY fid\n",
        "    HAVING SUM(1) < 5\n",
        ")\n",
        "\n",
        "\n"
      ],
      "metadata": {
        "id": "fYH795j4l97c"
      },
      "execution_count": null,
      "outputs": []
    }
  ]
}